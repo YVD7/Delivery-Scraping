{
 "cells": [
  {
   "cell_type": "code",
   "execution_count": 1,
   "metadata": {},
   "outputs": [],
   "source": [
    "import numpy as np\n",
    "import pandas as pd\n",
    "from bs4 import BeautifulSoup as bs\n",
    "import urllib\n",
    "import requests as req"
   ]
  },
  {
   "cell_type": "code",
   "execution_count": 3,
   "metadata": {},
   "outputs": [],
   "source": [
    "url_list = pd.read_excel(\"/home/yash/project/interview-tasks/Delivery-Scraping/Documents/E-commerce URL.xlsx\")"
   ]
  },
  {
   "cell_type": "code",
   "execution_count": 4,
   "metadata": {},
   "outputs": [
    {
     "data": {
      "text/html": [
       "<div>\n",
       "<style scoped>\n",
       "    .dataframe tbody tr th:only-of-type {\n",
       "        vertical-align: middle;\n",
       "    }\n",
       "\n",
       "    .dataframe tbody tr th {\n",
       "        vertical-align: top;\n",
       "    }\n",
       "\n",
       "    .dataframe thead th {\n",
       "        text-align: right;\n",
       "    }\n",
       "</style>\n",
       "<table border=\"1\" class=\"dataframe\">\n",
       "  <thead>\n",
       "    <tr style=\"text-align: right;\">\n",
       "      <th></th>\n",
       "      <th>https://shopee.sg/GS-GA100-Black-Gold-Men's-Fashion-Sports-Quartz-Watch-GA-100-LED-Automatic-Luminous-Waterproof-Watch-i.829923962.19743739633?sp_atk=183a4a2b-ff4e-46c0-8e81-9006bab65384&amp;xptdk=183a4a2b-ff4e-46c0-8e81-9006bab65384</th>\n",
       "    </tr>\n",
       "  </thead>\n",
       "  <tbody>\n",
       "    <tr>\n",
       "      <th>0</th>\n",
       "      <td>https://shopee.sg/Men's-Watch-with-LED-Electro...</td>\n",
       "    </tr>\n",
       "    <tr>\n",
       "      <th>1</th>\n",
       "      <td>https://shopee.sg/Curved-Interface-Rubber-Stra...</td>\n",
       "    </tr>\n",
       "    <tr>\n",
       "      <th>2</th>\n",
       "      <td>https://shopee.sg/%E3%80%90Free-Box%E3%80%91PA...</td>\n",
       "    </tr>\n",
       "    <tr>\n",
       "      <th>3</th>\n",
       "      <td>https://shopee.sg/G-series-GA110-Black-Gold-Au...</td>\n",
       "    </tr>\n",
       "    <tr>\n",
       "      <th>4</th>\n",
       "      <td>https://shopee.sg/Fashion-Couple-Watch-Busines...</td>\n",
       "    </tr>\n",
       "    <tr>\n",
       "      <th>...</th>\n",
       "      <td>...</td>\n",
       "    </tr>\n",
       "    <tr>\n",
       "      <th>114</th>\n",
       "      <td>https://shopee.sg/MESIN-Brand-Women's-Watches-...</td>\n",
       "    </tr>\n",
       "    <tr>\n",
       "      <th>115</th>\n",
       "      <td>https://shopee.sg/Foss1l-Women's-Watches-Chain...</td>\n",
       "    </tr>\n",
       "    <tr>\n",
       "      <th>116</th>\n",
       "      <td>https://shopee.sg/Simple-Women-Korean-Alloy-Qu...</td>\n",
       "    </tr>\n",
       "    <tr>\n",
       "      <th>117</th>\n",
       "      <td>https://shopee.sg/GC-Women-Luxury-Quartz-Watch...</td>\n",
       "    </tr>\n",
       "    <tr>\n",
       "      <th>118</th>\n",
       "      <td>https://shopee.sg/Louiswill-Fashion-Ladies-Wat...</td>\n",
       "    </tr>\n",
       "  </tbody>\n",
       "</table>\n",
       "<p>119 rows × 1 columns</p>\n",
       "</div>"
      ],
      "text/plain": [
       "    https://shopee.sg/GS-GA100-Black-Gold-Men's-Fashion-Sports-Quartz-Watch-GA-100-LED-Automatic-Luminous-Waterproof-Watch-i.829923962.19743739633?sp_atk=183a4a2b-ff4e-46c0-8e81-9006bab65384&xptdk=183a4a2b-ff4e-46c0-8e81-9006bab65384\n",
       "0    https://shopee.sg/Men's-Watch-with-LED-Electro...                                                                                                                                                                                   \n",
       "1    https://shopee.sg/Curved-Interface-Rubber-Stra...                                                                                                                                                                                   \n",
       "2    https://shopee.sg/%E3%80%90Free-Box%E3%80%91PA...                                                                                                                                                                                   \n",
       "3    https://shopee.sg/G-series-GA110-Black-Gold-Au...                                                                                                                                                                                   \n",
       "4    https://shopee.sg/Fashion-Couple-Watch-Busines...                                                                                                                                                                                   \n",
       "..                                                 ...                                                                                                                                                                                   \n",
       "114  https://shopee.sg/MESIN-Brand-Women's-Watches-...                                                                                                                                                                                   \n",
       "115  https://shopee.sg/Foss1l-Women's-Watches-Chain...                                                                                                                                                                                   \n",
       "116  https://shopee.sg/Simple-Women-Korean-Alloy-Qu...                                                                                                                                                                                   \n",
       "117  https://shopee.sg/GC-Women-Luxury-Quartz-Watch...                                                                                                                                                                                   \n",
       "118  https://shopee.sg/Louiswill-Fashion-Ladies-Wat...                                                                                                                                                                                   \n",
       "\n",
       "[119 rows x 1 columns]"
      ]
     },
     "execution_count": 4,
     "metadata": {},
     "output_type": "execute_result"
    }
   ],
   "source": [
    "url_list"
   ]
  },
  {
   "cell_type": "code",
   "execution_count": 5,
   "metadata": {},
   "outputs": [
    {
     "data": {
      "text/html": [
       "<div>\n",
       "<style scoped>\n",
       "    .dataframe tbody tr th:only-of-type {\n",
       "        vertical-align: middle;\n",
       "    }\n",
       "\n",
       "    .dataframe tbody tr th {\n",
       "        vertical-align: top;\n",
       "    }\n",
       "\n",
       "    .dataframe thead th {\n",
       "        text-align: right;\n",
       "    }\n",
       "</style>\n",
       "<table border=\"1\" class=\"dataframe\">\n",
       "  <thead>\n",
       "    <tr style=\"text-align: right;\">\n",
       "      <th></th>\n",
       "      <th>https://shopee.sg/GS-GA100-Black-Gold-Men's-Fashion-Sports-Quartz-Watch-GA-100-LED-Automatic-Luminous-Waterproof-Watch-i.829923962.19743739633?sp_atk=183a4a2b-ff4e-46c0-8e81-9006bab65384&amp;xptdk=183a4a2b-ff4e-46c0-8e81-9006bab65384</th>\n",
       "    </tr>\n",
       "  </thead>\n",
       "  <tbody>\n",
       "    <tr>\n",
       "      <th>0</th>\n",
       "      <td>https://shopee.sg/Men's-Watch-with-LED-Electro...</td>\n",
       "    </tr>\n",
       "    <tr>\n",
       "      <th>1</th>\n",
       "      <td>https://shopee.sg/Curved-Interface-Rubber-Stra...</td>\n",
       "    </tr>\n",
       "    <tr>\n",
       "      <th>2</th>\n",
       "      <td>https://shopee.sg/%E3%80%90Free-Box%E3%80%91PA...</td>\n",
       "    </tr>\n",
       "    <tr>\n",
       "      <th>3</th>\n",
       "      <td>https://shopee.sg/G-series-GA110-Black-Gold-Au...</td>\n",
       "    </tr>\n",
       "    <tr>\n",
       "      <th>4</th>\n",
       "      <td>https://shopee.sg/Fashion-Couple-Watch-Busines...</td>\n",
       "    </tr>\n",
       "    <tr>\n",
       "      <th>...</th>\n",
       "      <td>...</td>\n",
       "    </tr>\n",
       "    <tr>\n",
       "      <th>114</th>\n",
       "      <td>https://shopee.sg/MESIN-Brand-Women's-Watches-...</td>\n",
       "    </tr>\n",
       "    <tr>\n",
       "      <th>115</th>\n",
       "      <td>https://shopee.sg/Foss1l-Women's-Watches-Chain...</td>\n",
       "    </tr>\n",
       "    <tr>\n",
       "      <th>116</th>\n",
       "      <td>https://shopee.sg/Simple-Women-Korean-Alloy-Qu...</td>\n",
       "    </tr>\n",
       "    <tr>\n",
       "      <th>117</th>\n",
       "      <td>https://shopee.sg/GC-Women-Luxury-Quartz-Watch...</td>\n",
       "    </tr>\n",
       "    <tr>\n",
       "      <th>118</th>\n",
       "      <td>https://shopee.sg/Louiswill-Fashion-Ladies-Wat...</td>\n",
       "    </tr>\n",
       "  </tbody>\n",
       "</table>\n",
       "<p>119 rows × 1 columns</p>\n",
       "</div>"
      ],
      "text/plain": [
       "    https://shopee.sg/GS-GA100-Black-Gold-Men's-Fashion-Sports-Quartz-Watch-GA-100-LED-Automatic-Luminous-Waterproof-Watch-i.829923962.19743739633?sp_atk=183a4a2b-ff4e-46c0-8e81-9006bab65384&xptdk=183a4a2b-ff4e-46c0-8e81-9006bab65384\n",
       "0    https://shopee.sg/Men's-Watch-with-LED-Electro...                                                                                                                                                                                   \n",
       "1    https://shopee.sg/Curved-Interface-Rubber-Stra...                                                                                                                                                                                   \n",
       "2    https://shopee.sg/%E3%80%90Free-Box%E3%80%91PA...                                                                                                                                                                                   \n",
       "3    https://shopee.sg/G-series-GA110-Black-Gold-Au...                                                                                                                                                                                   \n",
       "4    https://shopee.sg/Fashion-Couple-Watch-Busines...                                                                                                                                                                                   \n",
       "..                                                 ...                                                                                                                                                                                   \n",
       "114  https://shopee.sg/MESIN-Brand-Women's-Watches-...                                                                                                                                                                                   \n",
       "115  https://shopee.sg/Foss1l-Women's-Watches-Chain...                                                                                                                                                                                   \n",
       "116  https://shopee.sg/Simple-Women-Korean-Alloy-Qu...                                                                                                                                                                                   \n",
       "117  https://shopee.sg/GC-Women-Luxury-Quartz-Watch...                                                                                                                                                                                   \n",
       "118  https://shopee.sg/Louiswill-Fashion-Ladies-Wat...                                                                                                                                                                                   \n",
       "\n",
       "[119 rows x 1 columns]"
      ]
     },
     "execution_count": 5,
     "metadata": {},
     "output_type": "execute_result"
    }
   ],
   "source": [
    "url_list1 = pd.DataFrame(url_list)\n",
    "url_list1"
   ]
  },
  {
   "cell_type": "code",
   "execution_count": null,
   "metadata": {},
   "outputs": [],
   "source": []
  }
 ],
 "metadata": {
  "kernelspec": {
   "display_name": "Python 3",
   "language": "python",
   "name": "python3"
  },
  "language_info": {
   "codemirror_mode": {
    "name": "ipython",
    "version": 3
   },
   "file_extension": ".py",
   "mimetype": "text/x-python",
   "name": "python",
   "nbconvert_exporter": "python",
   "pygments_lexer": "ipython3",
   "version": "3.10.0"
  },
  "orig_nbformat": 4,
  "vscode": {
   "interpreter": {
    "hash": "ea81eb322b690708e15e084c8017f2983dde4b3b8fe02d0f6cf15ddd29e90f62"
   }
  }
 },
 "nbformat": 4,
 "nbformat_minor": 2
}
